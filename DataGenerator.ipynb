{
 "cells": [
  {
   "cell_type": "code",
   "execution_count": null,
   "metadata": {},
   "outputs": [],
   "source": [
    "import pandas as pd\n",
    "import numpy as np\n",
    "# Generate data\n",
    "num_samples = 50000\n",
    "radius = np.random.uniform(low=0, high=10, size=num_samples)\n",
    "height = np.random.uniform(low=0, high=10, size=num_samples)\n",
    "surface_area = 2 * np.pi * radius * (height + radius)  \n",
    "\n",
    "data = {'radius': radius, 'height': height, 'surface_area': surface_area}\n",
    "df = pd.DataFrame(data)\n",
    "\n",
    "\n",
    "\n",
    "\n",
    "# Split data into train and test sets\n",
    "train, test = train_test_split(df, test_size=0.2)\n",
    "\n",
    "\n",
    "\n",
    "\n",
    "# Save to CSV files\n",
    "train.to_csv('hahah/train.csv', index=False)\n",
    "test.to_csv('hahah/test.csv', index=False)\n"
   ]
  }
 ],
 "metadata": {
  "language_info": {
   "name": "python"
  },
  "orig_nbformat": 4
 },
 "nbformat": 4,
 "nbformat_minor": 2
}
