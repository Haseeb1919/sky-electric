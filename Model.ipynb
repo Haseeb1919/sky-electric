{
 "cells": [
  {
   "cell_type": "markdown",
   "metadata": {},
   "source": []
  },
  {
   "cell_type": "code",
   "execution_count": 16,
   "metadata": {},
   "outputs": [],
   "source": [
    "# Libraries\n",
    "import pandas as pd\n",
    "import numpy as np\n",
    "from sklearn.model_selection import train_test_split\n",
    "from sklearn.pipeline import Pipeline\n",
    "from sklearn.preprocessing import StandardScaler\n",
    "from sklearn.linear_model import LinearRegression\n",
    "from sklearn.ensemble import RandomForestRegressor\n",
    "from sklearn.svm import SVR\n",
    "from sklearn.metrics import mean_squared_error, mean_absolute_error, r2_score\n",
    "import os\n",
    "\n",
    "import pickle\n"
   ]
  },
  {
   "cell_type": "code",
   "execution_count": 17,
   "metadata": {},
   "outputs": [],
   "source": [
    "#loading data from the dataset folder\n",
    "train = pd.read_csv('dataset/train.csv')\n",
    "test = pd.read_csv('dataset/test.csv')"
   ]
  },
  {
   "cell_type": "code",
   "execution_count": 18,
   "metadata": {},
   "outputs": [],
   "source": [
    "#splitting the data into train and test\n",
    "def split_data(train, test):\n",
    "    X_train = train[['radius', 'height']]\n",
    "    y_train = train['surface_area']\n",
    "    \n",
    "    X_test = test[['radius', 'height']]\n",
    "    y_test = test['surface_area']\n",
    "    \n",
    "    return X_train, X_test, y_train, y_test\n",
    "\n",
    "X_train, X_test, y_train, y_test = split_data(train, test)"
   ]
  },
  {
   "cell_type": "code",
   "execution_count": 27,
   "metadata": {},
   "outputs": [
    {
     "name": "stdout",
     "output_type": "stream",
     "text": [
      "SVR MSE: 5.989687009089831\n",
      "SVR MAE: 0.93654201000233\n",
      "SVR R2: 0.9999323010568322\n",
      "Random Forest MSE: 22.54839728255437\n",
      "Random Forest MAE: 3.214965360401975\n",
      "Random Forest R2: 0.9997451448358085\n"
     ]
    }
   ],
   "source": [
    "\n",
    "\n",
    "preprocessor = StandardScaler()\n",
    "# Define the models as before\n",
    "models = {\n",
    "    'SVR': SVR(kernel='rbf', C=100, gamma=0.1, epsilon=0.1),\n",
    "    'Random Forest': RandomForestRegressor(n_estimators=100, max_depth=10, random_state=0),\n",
    "}\n",
    "\n",
    "# Create a dictionary to store the evaluation results\n",
    "results = {}\n",
    "\n",
    "for name, model in models.items():\n",
    "    pipe = Pipeline([\n",
    "        ('preprocessor', preprocessor),\n",
    "        ('model', model)\n",
    "    ])\n",
    "    pipe.fit(X_train, y_train)\n",
    "    y_pred = pipe.predict(X_test)\n",
    "    mse = mean_squared_error(y_test, y_pred)\n",
    "    mae = mean_absolute_error(y_test, y_pred)\n",
    "    r2 = r2_score(y_test, y_pred)\n",
    "    \n",
    "    results[name] = {\n",
    "        'MSE': mse,\n",
    "        'MAE': mae,\n",
    "        'R2': r2\n",
    "    }\n",
    "    \n",
    "# Print the evaluation results for each model\n",
    "for name, metrics in results.items():\n",
    "    print(f'{name} MSE: {metrics[\"MSE\"]}')\n",
    "    print(f'{name} MAE: {metrics[\"MAE\"]}')\n",
    "    print(f'{name} R2: {metrics[\"R2\"]}')\n"
   ]
  },
  {
   "cell_type": "code",
   "execution_count": 28,
   "metadata": {},
   "outputs": [
    {
     "name": "stdout",
     "output_type": "stream",
     "text": [
      "Best model based on composite score: SVR\n"
     ]
    }
   ],
   "source": [
    "# Calculate a composite score for each model based on MSE, MAE, and R2\n",
    "composite_scores = {}\n",
    "for name, metrics in results.items():\n",
    "    mse = metrics['MSE']\n",
    "    mae = metrics['MAE']\n",
    "    r2 = metrics['R2']\n",
    "    \n",
    "    # You can choose to use the mean or weighted mean here\n",
    "    # In this example, we'll use the mean\n",
    "    composite_score = (mse + mae + r2) / 3.0\n",
    "    \n",
    "    composite_scores[name] = composite_score\n",
    "\n",
    "# Find the best model based on the composite score\n",
    "best_model = min(composite_scores, key=composite_scores.get)\n",
    "\n",
    "print('Best model based on composite score:', best_model)\n"
   ]
  },
  {
   "cell_type": "code",
   "execution_count": 30,
   "metadata": {},
   "outputs": [
    {
     "data": {
      "text/plain": [
       "['best_model.pkl']"
      ]
     },
     "execution_count": 30,
     "metadata": {},
     "output_type": "execute_result"
    }
   ],
   "source": [
    "import joblib\n",
    "\n",
    "# Save the model to a file\n",
    "joblib.dump(pipe, 'best_model.pkl')\n",
    "\n"
   ]
  }
 ],
 "metadata": {
  "kernelspec": {
   "display_name": "machine_learning",
   "language": "python",
   "name": "python3"
  },
  "language_info": {
   "codemirror_mode": {
    "name": "ipython",
    "version": 3
   },
   "file_extension": ".py",
   "mimetype": "text/x-python",
   "name": "python",
   "nbconvert_exporter": "python",
   "pygments_lexer": "ipython3",
   "version": "3.11.3"
  },
  "orig_nbformat": 4
 },
 "nbformat": 4,
 "nbformat_minor": 2
}
